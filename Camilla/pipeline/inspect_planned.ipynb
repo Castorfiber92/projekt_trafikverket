{
 "cells": [
  {
   "cell_type": "code",
   "execution_count": null,
   "id": "38a28cfe",
   "metadata": {},
   "outputs": [],
   "source": [
    "import os\n",
    "import pandas as pd\n",
    "from azure.storage.filedatalake import DataLakeServiceClient\n",
    "from io import BytesIO\n",
    "\n",
    "# Ladda .env OM den inte redan är laddad\n",
    "if 'STORAGE_ACCOUNT_NAME' not in os.environ:\n",
    "    env_file = '.env'\n",
    "    if os.path.exists(env_file):\n",
    "        with open(env_file, 'r', encoding='utf-8') as f:\n",
    "            for line in f:\n",
    "                line = line.strip()\n",
    "                if line and not line.startswith('#') and '=' in line:\n",
    "                    key, value = line.split('=', 1)\n",
    "                    value = value.strip().strip('\"').strip(\"'\")\n",
    "                    os.environ[key.strip()] = value\n",
    "        print(f\"✅ Laddade .env från: {env_file}\")\n",
    "\n",
    "import config as cfg\n",
    "\n",
    "def read_parquet_from_adls(path):\n",
    "    svc = DataLakeServiceClient(\n",
    "        account_url=f\"https://{cfg.STORAGE_ACCOUNT_NAME}.dfs.core.windows.net\",\n",
    "        credential=cfg.STORAGE_ACCOUNT_KEY\n",
    "    )\n",
    "    fs = svc.get_file_system_client(cfg.CONTAINER_NAME)\n",
    "    fc = fs.get_file_client(path)\n",
    "    data = fc.download_file().readall()\n",
    "    buf = BytesIO(data)\n",
    "    return pd.read_parquet(buf)\n",
    "\n",
    "df = read_parquet_from_adls(\"curated/planned/df_planned_latest.parquet\")\n",
    "df.head()"
   ]
  }
 ],
 "metadata": {
  "kernelspec": {
   "display_name": "base",
   "language": "python",
   "name": "python3"
  },
  "language_info": {
   "codemirror_mode": {
    "name": "ipython",
    "version": 3
   },
   "file_extension": ".py",
   "mimetype": "text/x-python",
   "name": "python",
   "nbconvert_exporter": "python",
   "pygments_lexer": "ipython3",
   "version": "3.12.4"
  }
 },
 "nbformat": 4,
 "nbformat_minor": 5
}
